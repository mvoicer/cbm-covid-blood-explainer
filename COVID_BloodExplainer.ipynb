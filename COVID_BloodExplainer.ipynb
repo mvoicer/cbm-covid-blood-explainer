{
  "nbformat": 4,
  "nbformat_minor": 0,
  "metadata": {
    "colab": {
      "name": "COVID_BloodExplainer.ipynb",
      "provenance": [],
      "collapsed_sections": [],
      "include_colab_link": true
    },
    "kernelspec": {
      "name": "python3",
      "display_name": "Python 3"
    }
  },
  "cells": [
    {
      "cell_type": "markdown",
      "metadata": {
        "id": "view-in-github",
        "colab_type": "text"
      },
      "source": [
        "<a href=\"https://colab.research.google.com/github/mvoicer/cbm-covid-blood-explainer/blob/main/COVID_BloodExplainer.ipynb\" target=\"_parent\"><img src=\"https://colab.research.google.com/assets/colab-badge.svg\" alt=\"Open In Colab\"/></a>"
      ]
    },
    {
      "cell_type": "markdown",
      "metadata": {
        "id": "2hAzjwLOi5VS"
      },
      "source": [
        "# Extrated reule for covid diagnosis"
      ]
    },
    {
      "cell_type": "code",
      "metadata": {
        "id": "sKtrYBokKRmx"
      },
      "source": [
        "import pandas as pd"
      ],
      "execution_count": null,
      "outputs": []
    },
    {
      "cell_type": "code",
      "metadata": {
        "id": "o7B1auIW4o9i"
      },
      "source": [
        "# Rules extracted from the decision tree\n",
        "\n",
        "rules = [['EOS <= -0.51','PLT <= 0.16','CRP > -1.74','EOS <= -0.61','MPV > -0.82','NEU <= -0.42','MCHC <= 1.90'],\n",
        "['CRP > -0.43','EOS > 0.63','AST <= -0.41','UREA > -0.91','MCV > 0.12','CREAT > -0.88','K+ > -0.52'],\n",
        "['EOS > 0.54','WBC > -0.97','MCV <= -0.13','ALT <= 2.13','CRP > -0.51','PLT > -2.98','HGB > 0.96','Sodium > 0.12'],\n",
        "['AST > -0.43','CRP > -0.46','PLT <= 0.26','WBC <= -0.44','LYM > -1.29','EOS <= 0.76','CREAT > -0.75','PLT <= 0.06','AST > -0.37','PLT > -3.57'],\n",
        "['EOS > -0.59','CRP > -0.53','PLT <= -0.33','CREAT > -0.30','AST > -0.34','EOS <= 0.39','MONO > -0.49','WBC <= -0.58','LYM <= 1.11','HCT > -0.50'],\n",
        "['CRP > -0.50','MPV > -0.99','EOS <= 0.82','PLT <= 0.21','LYM > -1.17','CREAT > -0.64','EOS <= 0.37','WBC <= -0.40','HGB <= 0.44','PLT > -4.22'],\n",
        "['CRP > -0.52','PLT <= 0.08','EOS <= -0.07','HGB > -0.83','CREAT > -0.87','EOS <= -0.67','Red blood Cells > -1.02','MONO > -0.16'],\n",
        "['HGB > -0.83','LYM > -1.13','CRP > -0.47','CREAT > -0.48','HCT > -1.09','EOS <= 0.77','AST > 0.23','MCV > -6.31','WBC <= -0.88','PLT <= -0.05'],\n",
        "['EOS <= -0.59','PLT <= -0.08','MPV > -1.00','HCT > 0.48','UREA <= 2.35','WBC <= -1.04','MPV > -0.97','MCHC > -1.08'],\n",
        "['EOS <= -0.55','PLT <= 0.13','MPV > -1.02','WBC <= 0.09','PLT <= -0.11','ALT > -1.13','WBC <= -0.29','MONO > -0.28'],\n",
        "['EOS > -0.62','AST > -0.46','EOS <= 0.52','WBC <= -0.47','CREAT > -0.46','CRP > -0.68','PLT <= -0.04','MONO > -0.03','MCH > -1.77','AST <= 1.04'],\n",
        "['PLT <= 0.10','MPV > -1.04','EOS <= -0.54','MPV > -1.01','WBC <= -0.58','LYM > -1.48','MCH > -1.48','HGB > 1.07','ALT > -0.54','MCHC > -0.22']]"
      ],
      "execution_count": null,
      "outputs": []
    },
    {
      "cell_type": "code",
      "metadata": {
        "id": "QsHVcwxwBa4M",
        "colab": {
          "base_uri": "https://localhost:8080/",
          "height": 221
        },
        "outputId": "67f6db9f-cdee-4a0d-b785-969b7d4ad5e5"
      },
      "source": [
        "for r in rules:\n",
        "  r.sort()\n",
        "  print(r)"
      ],
      "execution_count": null,
      "outputs": [
        {
          "output_type": "stream",
          "text": [
            "['CRP > -1.74', 'EOS <= -0.51', 'EOS <= -0.61', 'MCHC <= 1.90', 'MPV > -0.82', 'NEU <= -0.42', 'PLT <= 0.16']\n",
            "['AST <= -0.41', 'CREAT > -0.88', 'CRP > -0.43', 'EOS > 0.63', 'K+ > -0.52', 'MCV > 0.12', 'UREA > -0.91']\n",
            "['ALT <= 2.13', 'CRP > -0.51', 'EOS > 0.54', 'HGB > 0.96', 'MCV <= -0.13', 'PLT > -2.98', 'Sodium > 0.12', 'WBC > -0.97']\n",
            "['AST > -0.37', 'AST > -0.43', 'CREAT > -0.75', 'CRP > -0.46', 'EOS <= 0.76', 'LYM > -1.29', 'PLT <= 0.06', 'PLT <= 0.26', 'PLT > -3.57', 'WBC <= -0.44']\n",
            "['AST > -0.34', 'CREAT > -0.30', 'CRP > -0.53', 'EOS <= 0.39', 'EOS > -0.59', 'HCT > -0.50', 'LYM <= 1.11', 'MONO > -0.49', 'PLT <= -0.33', 'WBC <= -0.58']\n",
            "['CREAT > -0.64', 'CRP > -0.50', 'EOS <= 0.37', 'EOS <= 0.82', 'HGB <= 0.44', 'LYM > -1.17', 'MPV > -0.99', 'PLT <= 0.21', 'PLT > -4.22', 'WBC <= -0.40']\n",
            "['CREAT > -0.87', 'CRP > -0.52', 'EOS <= -0.07', 'EOS <= -0.67', 'HGB > -0.83', 'MONO > -0.16', 'PLT <= 0.08', 'Red blood Cells > -1.02']\n",
            "['AST > 0.23', 'CREAT > -0.48', 'CRP > -0.47', 'EOS <= 0.77', 'HCT > -1.09', 'HGB > -0.83', 'LYM > -1.13', 'MCV > -6.31', 'PLT <= -0.05', 'WBC <= -0.88']\n",
            "['EOS <= -0.59', 'HCT > 0.48', 'MCHC > -1.08', 'MPV > -0.97', 'MPV > -1.00', 'PLT <= -0.08', 'UREA <= 2.35', 'WBC <= -1.04']\n",
            "['ALT > -1.13', 'EOS <= -0.55', 'MONO > -0.28', 'MPV > -1.02', 'PLT <= -0.11', 'PLT <= 0.13', 'WBC <= -0.29', 'WBC <= 0.09']\n",
            "['AST <= 1.04', 'AST > -0.46', 'CREAT > -0.46', 'CRP > -0.68', 'EOS <= 0.52', 'EOS > -0.62', 'MCH > -1.77', 'MONO > -0.03', 'PLT <= -0.04', 'WBC <= -0.47']\n",
            "['ALT > -0.54', 'EOS <= -0.54', 'HGB > 1.07', 'LYM > -1.48', 'MCH > -1.48', 'MCHC > -0.22', 'MPV > -1.01', 'MPV > -1.04', 'PLT <= 0.10', 'WBC <= -0.58']\n"
          ],
          "name": "stdout"
        }
      ]
    },
    {
      "cell_type": "markdown",
      "metadata": {
        "id": "-V8ExL3Di-7y"
      },
      "source": [
        "# Merge Rules"
      ]
    },
    {
      "cell_type": "code",
      "metadata": {
        "id": "gBH2mBVsCUJ7"
      },
      "source": [
        "def extract_attributes(rules):\n",
        "  operators = ['>','<','<=','>=']\n",
        "\n",
        "  attributes = []\n",
        "\n",
        "  for rule in rules:\n",
        "    for r in rule: \n",
        "      words = r.split()\n",
        "      idx = 0\n",
        "      for i in range(len(words)):\n",
        "        if words[i] in operators:\n",
        "          idx = i\n",
        "          break \n",
        "      attributes.append(' '.join(words[0:idx]))\n",
        "\n",
        "  return attributes\n"
      ],
      "execution_count": null,
      "outputs": []
    },
    {
      "cell_type": "code",
      "metadata": {
        "id": "4MFUgAb-pZli"
      },
      "source": [
        "def parse_tests(rules):\n",
        "  operators = ['>','<','<=','>=']\n",
        "\n",
        "  tests = []\n",
        "\n",
        "  for rule in rules:\n",
        "    links = []\n",
        "    for r in rule:\n",
        "      words = r.split() \n",
        "      idx = 0\n",
        "      for i in range(len(words)):\n",
        "        if words[i] in operators:\n",
        "          idx = i\n",
        "          break \n",
        "\n",
        "      if -0.5 <= float(words[idx+1]) <= 0.5:\n",
        "        value = 'medium'\n",
        "      elif float(words[idx+1]) > 0.5:\n",
        "        value = 'high'\n",
        "      else:\n",
        "        value = 'low'\n",
        "\n",
        "      att = ' '.join(words[0:idx])\n",
        "      attribute = ''.join([att]+[words[idx]]+[str(value)])\n",
        "\n",
        "      if attribute not in links:\n",
        "        links.append(attribute)\n",
        "    \n",
        "    for r in rule:\n",
        "      words = r.split() \n",
        "      idx = 0\n",
        "      for i in range(len(words)):\n",
        "        if words[i] in operators:\n",
        "          idx = i\n",
        "          break \n",
        "\n",
        "      tests.append({'attribute':' '.join(words[0:idx]),'operator':words[idx],'value':float(words[idx+1]),'links':links,'rule':rule})\n",
        "\n",
        "  return tests"
      ],
      "execution_count": null,
      "outputs": []
    },
    {
      "cell_type": "code",
      "metadata": {
        "id": "FxaaX_0SsKwt"
      },
      "source": [
        "import copy\n",
        "\n",
        "def merge_tests(parsed_tests):\n",
        "  \n",
        "  merged_tests = []\n",
        "\n",
        "  for i in parsed_tests:\n",
        "    for j in parsed_tests:\n",
        "      if i['attribute'] == j['attribute'] and i['operator'] == j['operator']:\n",
        "\n",
        "        if i['operator'] == '<' or i['operator'] == '<=':\n",
        "          i['value'] = min(i['value'],j['value'])\n",
        "        elif i['operator'] == '>' or i['operator'] == '>':\n",
        "          i['value'] = min(i['value'],j['value'])\n",
        "        else:\n",
        "          print('This is insane')\n",
        "\n",
        "    merged_tests.append(copy.deepcopy(i))\n",
        "\n",
        "  return merged_tests\n"
      ],
      "execution_count": null,
      "outputs": []
    },
    {
      "cell_type": "code",
      "metadata": {
        "id": "rzT7tpYwc5I0"
      },
      "source": [
        "def merge_pos_negs(parsed_tests):\n",
        "  \n",
        "  merged_tests = []\n",
        "\n",
        "  for p in parsed_tests:\n",
        "    c = copy.deepcopy(p)\n",
        "    if -0.5 <= c['value'] <= 0.5:\n",
        "      c['t_value'] = 'medium'\n",
        "    elif c['value'] > 0.5:\n",
        "      c['t_value'] = 'high'\n",
        "    else:\n",
        "      c['t_value'] = 'low'\n",
        "\n",
        "    merged_tests.append(c)\n",
        "\n",
        "  return merged_tests"
      ],
      "execution_count": null,
      "outputs": []
    },
    {
      "cell_type": "code",
      "metadata": {
        "id": "w61ZKj5to0BF",
        "colab": {
          "base_uri": "https://localhost:8080/",
          "height": 68
        },
        "outputId": "3b8d2a0c-ea5f-4fc1-b7d1-affecb814968"
      },
      "source": [
        "tests = parse_tests(rules)\n",
        "for i in range(3):\n",
        "  print(tests[i])\n"
      ],
      "execution_count": null,
      "outputs": [
        {
          "output_type": "stream",
          "text": [
            "{'attribute': 'CRP', 'operator': '>', 'value': -1.74, 'links': ['CRP>low', 'EOS<=low', 'MCHC<=high', 'MPV>low', 'NEU<=medium', 'PLT<=medium'], 'rule': ['CRP > -1.74', 'EOS <= -0.51', 'EOS <= -0.61', 'MCHC <= 1.90', 'MPV > -0.82', 'NEU <= -0.42', 'PLT <= 0.16']}\n",
            "{'attribute': 'EOS', 'operator': '<=', 'value': -0.51, 'links': ['CRP>low', 'EOS<=low', 'MCHC<=high', 'MPV>low', 'NEU<=medium', 'PLT<=medium'], 'rule': ['CRP > -1.74', 'EOS <= -0.51', 'EOS <= -0.61', 'MCHC <= 1.90', 'MPV > -0.82', 'NEU <= -0.42', 'PLT <= 0.16']}\n",
            "{'attribute': 'EOS', 'operator': '<=', 'value': -0.61, 'links': ['CRP>low', 'EOS<=low', 'MCHC<=high', 'MPV>low', 'NEU<=medium', 'PLT<=medium'], 'rule': ['CRP > -1.74', 'EOS <= -0.51', 'EOS <= -0.61', 'MCHC <= 1.90', 'MPV > -0.82', 'NEU <= -0.42', 'PLT <= 0.16']}\n"
          ],
          "name": "stdout"
        }
      ]
    },
    {
      "cell_type": "code",
      "metadata": {
        "id": "WS81nCjldf11",
        "colab": {
          "base_uri": "https://localhost:8080/",
          "height": 204
        },
        "outputId": "e115a6e0-2a53-4133-9ffa-440ed7749f68"
      },
      "source": [
        "m_tests = merge_pos_negs(tests)\n",
        "\n",
        "tests_df = pd.DataFrame(m_tests)\n",
        "tests_df['nodes'] = tests_df['attribute'] + tests_df['operator'] + tests_df['t_value'] \n",
        "\n",
        "tests_df.head()"
      ],
      "execution_count": null,
      "outputs": [
        {
          "output_type": "execute_result",
          "data": {
            "text/html": [
              "<div>\n",
              "<style scoped>\n",
              "    .dataframe tbody tr th:only-of-type {\n",
              "        vertical-align: middle;\n",
              "    }\n",
              "\n",
              "    .dataframe tbody tr th {\n",
              "        vertical-align: top;\n",
              "    }\n",
              "\n",
              "    .dataframe thead th {\n",
              "        text-align: right;\n",
              "    }\n",
              "</style>\n",
              "<table border=\"1\" class=\"dataframe\">\n",
              "  <thead>\n",
              "    <tr style=\"text-align: right;\">\n",
              "      <th></th>\n",
              "      <th>attribute</th>\n",
              "      <th>operator</th>\n",
              "      <th>value</th>\n",
              "      <th>links</th>\n",
              "      <th>rule</th>\n",
              "      <th>t_value</th>\n",
              "      <th>nodes</th>\n",
              "    </tr>\n",
              "  </thead>\n",
              "  <tbody>\n",
              "    <tr>\n",
              "      <th>0</th>\n",
              "      <td>CRP</td>\n",
              "      <td>&gt;</td>\n",
              "      <td>-1.74</td>\n",
              "      <td>[CRP&gt;low, EOS&lt;=low, MCHC&lt;=high, MPV&gt;low, NEU&lt;=...</td>\n",
              "      <td>[CRP &gt; -1.74, EOS &lt;= -0.51, EOS &lt;= -0.61, MCHC...</td>\n",
              "      <td>low</td>\n",
              "      <td>CRP&gt;low</td>\n",
              "    </tr>\n",
              "    <tr>\n",
              "      <th>1</th>\n",
              "      <td>EOS</td>\n",
              "      <td>&lt;=</td>\n",
              "      <td>-0.51</td>\n",
              "      <td>[CRP&gt;low, EOS&lt;=low, MCHC&lt;=high, MPV&gt;low, NEU&lt;=...</td>\n",
              "      <td>[CRP &gt; -1.74, EOS &lt;= -0.51, EOS &lt;= -0.61, MCHC...</td>\n",
              "      <td>low</td>\n",
              "      <td>EOS&lt;=low</td>\n",
              "    </tr>\n",
              "    <tr>\n",
              "      <th>2</th>\n",
              "      <td>EOS</td>\n",
              "      <td>&lt;=</td>\n",
              "      <td>-0.61</td>\n",
              "      <td>[CRP&gt;low, EOS&lt;=low, MCHC&lt;=high, MPV&gt;low, NEU&lt;=...</td>\n",
              "      <td>[CRP &gt; -1.74, EOS &lt;= -0.51, EOS &lt;= -0.61, MCHC...</td>\n",
              "      <td>low</td>\n",
              "      <td>EOS&lt;=low</td>\n",
              "    </tr>\n",
              "    <tr>\n",
              "      <th>3</th>\n",
              "      <td>MCHC</td>\n",
              "      <td>&lt;=</td>\n",
              "      <td>1.90</td>\n",
              "      <td>[CRP&gt;low, EOS&lt;=low, MCHC&lt;=high, MPV&gt;low, NEU&lt;=...</td>\n",
              "      <td>[CRP &gt; -1.74, EOS &lt;= -0.51, EOS &lt;= -0.61, MCHC...</td>\n",
              "      <td>high</td>\n",
              "      <td>MCHC&lt;=high</td>\n",
              "    </tr>\n",
              "    <tr>\n",
              "      <th>4</th>\n",
              "      <td>MPV</td>\n",
              "      <td>&gt;</td>\n",
              "      <td>-0.82</td>\n",
              "      <td>[CRP&gt;low, EOS&lt;=low, MCHC&lt;=high, MPV&gt;low, NEU&lt;=...</td>\n",
              "      <td>[CRP &gt; -1.74, EOS &lt;= -0.51, EOS &lt;= -0.61, MCHC...</td>\n",
              "      <td>low</td>\n",
              "      <td>MPV&gt;low</td>\n",
              "    </tr>\n",
              "  </tbody>\n",
              "</table>\n",
              "</div>"
            ],
            "text/plain": [
              "  attribute operator  ...  t_value       nodes\n",
              "0       CRP        >  ...      low     CRP>low\n",
              "1       EOS       <=  ...      low    EOS<=low\n",
              "2       EOS       <=  ...      low    EOS<=low\n",
              "3      MCHC       <=  ...     high  MCHC<=high\n",
              "4       MPV        >  ...      low     MPV>low\n",
              "\n",
              "[5 rows x 7 columns]"
            ]
          },
          "metadata": {
            "tags": []
          },
          "execution_count": 20
        }
      ]
    },
    {
      "cell_type": "code",
      "metadata": {
        "id": "eAT-b0UN5SGF"
      },
      "source": [
        "# Import packages for data cleaning\n",
        "import numpy as np\n",
        "import pandas as pd\n",
        "import re # For finding specific strings in the text\n",
        "# Import packages for data visualization\n",
        "import plotly.offline as py\n",
        "import plotly.graph_objects as go\n",
        "import networkx as nx"
      ],
      "execution_count": null,
      "outputs": []
    },
    {
      "cell_type": "code",
      "metadata": {
        "id": "nXYcGrHzvGC-",
        "colab": {
          "base_uri": "https://localhost:8080/",
          "height": 102
        },
        "outputId": "de6f9c31-0837-4186-eb5e-707190fa020f"
      },
      "source": [
        "t = nx.Graph()\n",
        "\n",
        "t.add_node('a', size=1)\n",
        "t.add_node('b', size=1)\n",
        "\n",
        "t.add_node('a', size=3)\n",
        "t.add_node('c', size=3)\n",
        "t.add_edge('a','b',weight=10)\n",
        "t.add_edge('c','b',weight=5)\n",
        "\n",
        "print(t.has_node('a'))\n",
        "\n",
        "print(t.nodes['b']['size'])\n",
        "\n",
        "t.nodes['b']['size'] = 10\n",
        "\n",
        "print(t.nodes['b']['size'])\n",
        "\n",
        "for e in t.edges:\n",
        "  print(e)\n",
        "\n",
        "t.remove_edge(e[0],e[1])\n"
      ],
      "execution_count": null,
      "outputs": [
        {
          "output_type": "stream",
          "text": [
            "True\n",
            "1\n",
            "10\n",
            "('a', 'b')\n",
            "('b', 'c')\n"
          ],
          "name": "stdout"
        }
      ]
    },
    {
      "cell_type": "markdown",
      "metadata": {
        "id": "UNSe7pJSgS3T"
      },
      "source": [
        "## Conection matrix"
      ]
    },
    {
      "cell_type": "code",
      "metadata": {
        "id": "vE1kpPMb0gig"
      },
      "source": [
        "G = nx.Graph()\n",
        "\n",
        "color_dic = {'low':'red','high':'blue','medium':'yellow'}\n",
        "\n",
        "for i in range(tests_df.shape[0]):\n",
        "  if not G.has_node(tests_df.iloc[i]['nodes']):\n",
        "    G.add_node(tests_df.iloc[i]['nodes'],\n",
        "              size = 1,\n",
        "              color=color_dic[tests_df.iloc[i]['t_value']])\n",
        "  else:\n",
        "    G.nodes[tests_df.iloc[i]['nodes']]['size'] += 1\n",
        "\n",
        "for i in range(tests_df.shape[0]):\n",
        "  for l in tests_df.iloc[i]['links']:\n",
        "    if not G.has_edge(tests_df.iloc[i]['nodes'],l):\n",
        "      G.add_edge(tests_df.iloc[i]['nodes'], l, weight=1, color='grey')\n",
        "    else:\n",
        "      G[tests_df.iloc[i]['nodes']][l]['weight'] +=1\n",
        "\n",
        "remove_weight = 4\n",
        "remove_size = 4\n",
        "\n",
        "for e in G.edges:\n",
        "  if G.get_edge_data(e[0],e[1])['weight'] < remove_weight:\n",
        "    G.remove_edge(e[0],e[1])\n",
        "\n",
        "remove = []\n",
        "for n in G.nodes:\n",
        "  if G.nodes[n]['size'] < remove_size:\n",
        "    remove.append(n)\n",
        "\n",
        "for r in remove:\n",
        "  G.remove_node(r)"
      ],
      "execution_count": null,
      "outputs": []
    },
    {
      "cell_type": "code",
      "metadata": {
        "id": "yBG2cGxf5TL6"
      },
      "source": [
        "# Get positions for the nodes in G\n",
        "pos_ = nx.shell_layout(G)"
      ],
      "execution_count": null,
      "outputs": []
    },
    {
      "cell_type": "code",
      "metadata": {
        "id": "wMNKTFk75_4R"
      },
      "source": [
        "def make_edge(x, y, text, width, color):\n",
        "    return  go.Scatter(x         = x,\n",
        "                       y         = y,\n",
        "                       line      = dict(width = width,\n",
        "                                   color = color),\n",
        "                       hoverinfo = 'text',\n",
        "                       text      = ([text]),\n",
        "                       mode      = 'lines')"
      ],
      "execution_count": null,
      "outputs": []
    },
    {
      "cell_type": "code",
      "metadata": {
        "id": "ckcvQIVw76m3"
      },
      "source": [
        "edge_trace = []\n",
        "for edge in G.edges():\n",
        "  char_1 = edge[0]\n",
        "  char_2 = edge[1]\n",
        "\n",
        "  x0, y0 = pos_[char_1]\n",
        "  x1, y1 = pos_[char_2]\n",
        "\n",
        "  text   = char_1 + '--' + char_2 + ': ' + str(G.edges()[edge]['weight'])\n",
        "        \n",
        "  trace  = make_edge([x0, x1, None], [y0, y1, None], text, width = 0.3*G.edges()[edge]['weight']**1.75, color=G.edges()[edge]['color'])\n",
        "\n",
        "  edge_trace.append(trace)"
      ],
      "execution_count": null,
      "outputs": []
    },
    {
      "cell_type": "code",
      "metadata": {
        "id": "bkVIRrOe86eK"
      },
      "source": [
        "# Make a node trace\n",
        "node_trace = go.Scatter(x         = [],\n",
        "                        y         = [],\n",
        "                        text      = [],\n",
        "                        opacity = 1,\n",
        "                        textposition = \"top center\",\n",
        "                        textfont_size = 28,\n",
        "                        textfont_color = 'black',\n",
        "                        mode      = 'markers+text',\n",
        "                        hoverinfo = 'none',\n",
        "                        marker    = dict(color = [],\n",
        "                                         size  = [],\n",
        "                                         line  = None))\n",
        "# For each node in G, get the position and size and add to the node_trace\n",
        "for node in G.nodes():\n",
        "    x, y = pos_[node]\n",
        "    node_trace['text'] += tuple(['<b>' + node + '</b>'])\n",
        "    node_trace['x'] += tuple([x])\n",
        "    node_trace['y'] += tuple([y])\n",
        "    node_trace['marker']['color'] += tuple([G.nodes()[node]['color']])\n",
        "    node_trace['marker']['size'] += tuple([ 5*G.nodes()[node]['size']**1.5 + 5 ])\n",
        "    "
      ],
      "execution_count": null,
      "outputs": []
    },
    {
      "cell_type": "code",
      "metadata": {
        "id": "PsQfXbBz9Hyn",
        "colab": {
          "base_uri": "https://localhost:8080/",
          "height": 1000
        },
        "outputId": "921dcac2-d82d-45c8-f773-0becc173851c"
      },
      "source": [
        "# Customize layout\n",
        "layout = go.Layout(\n",
        "    #paper_bgcolor='rgba(0,0,0,0)', # transparent background\n",
        "    plot_bgcolor='rgba(0,0,0,0)', # transparent 2nd background\n",
        "    xaxis =  {'showgrid': False, 'zeroline': False}, # no gridlines\n",
        "    yaxis = {'showgrid': False, 'zeroline': False}, # no gridlines\n",
        "    width=1500,\n",
        "    height=1000,\n",
        "    margin=dict(l=0, r=0, t=0, b=0),\n",
        ")\n",
        "# Create figure\n",
        "fig = go.Figure(layout = layout)\n",
        "# Add all edge traces\n",
        "for trace in edge_trace:\n",
        "    fig.add_trace(trace)\n",
        "# Add node trace\n",
        "fig.add_trace(node_trace)\n",
        "# Remove legend\n",
        "fig.update_layout(showlegend = False)\n",
        "# Remove tick labels\n",
        "fig.update_xaxes(showticklabels = False)\n",
        "fig.update_yaxes(showticklabels = False)\n",
        "fig.update_yaxes(automargin=True)\n",
        "# Show figure\n",
        "fig.show()"
      ],
      "execution_count": null,
      "outputs": [
        {
          "output_type": "display_data",
          "data": {
            "text/html": [
              "<html>\n",
              "<head><meta charset=\"utf-8\" /></head>\n",
              "<body>\n",
              "    <div>\n",
              "            <script src=\"https://cdnjs.cloudflare.com/ajax/libs/mathjax/2.7.5/MathJax.js?config=TeX-AMS-MML_SVG\"></script><script type=\"text/javascript\">if (window.MathJax) {MathJax.Hub.Config({SVG: {font: \"STIX-Web\"}});}</script>\n",
              "                <script type=\"text/javascript\">window.PlotlyConfig = {MathJaxConfig: 'local'};</script>\n",
              "        <script src=\"https://cdn.plot.ly/plotly-latest.min.js\"></script>    \n",
              "            <div id=\"f243417d-ef4f-4c55-a072-571089700c39\" class=\"plotly-graph-div\" style=\"height:1000px; width:1500px;\"></div>\n",
              "            <script type=\"text/javascript\">\n",
              "                \n",
              "                    window.PLOTLYENV=window.PLOTLYENV || {};\n",
              "                    \n",
              "                if (document.getElementById(\"f243417d-ef4f-4c55-a072-571089700c39\")) {\n",
              "                    Plotly.newPlot(\n",
              "                        'f243417d-ef4f-4c55-a072-571089700c39',\n",
              "                        [{\"hoverinfo\": \"text\", \"line\": {\"color\": \"grey\", \"width\": 5.015552287323165}, \"mode\": \"lines\", \"text\": [\"CRP>low--CRP>low: 5\"], \"type\": \"scatter\", \"x\": [-1.0, -1.0, null], \"y\": [-8.742277657347586e-08, -8.742277657347586e-08, null]}, {\"hoverinfo\": \"text\", \"line\": {\"color\": \"grey\", \"width\": 5.015552287323165}, \"mode\": \"lines\", \"text\": [\"CRP>low--EOS<=low: 5\"], \"type\": \"scatter\", \"x\": [-1.0, -0.8660252690315247, null], \"y\": [-8.742277657347586e-08, -0.5000001788139343, null]}, {\"hoverinfo\": \"text\", \"line\": {\"color\": \"grey\", \"width\": 11.416388304026121}, \"mode\": \"lines\", \"text\": [\"CRP>low--PLT<=medium: 8\"], \"type\": \"scatter\", \"x\": [-1.0, 1.1924880638503055e-08, null], \"y\": [-8.742277657347586e-08, -1.0, null]}, {\"hoverinfo\": \"text\", \"line\": {\"color\": \"grey\", \"width\": 3.394112549695428}, \"mode\": \"lines\", \"text\": [\"CRP>low--AST>medium: 4\"], \"type\": \"scatter\", \"x\": [-1.0, 1.0, null], \"y\": [-8.742277657347586e-08, 1.7484555314695172e-07, null]}, {\"hoverinfo\": \"text\", \"line\": {\"color\": \"grey\", \"width\": 6.900585525859743}, \"mode\": \"lines\", \"text\": [\"CRP>low--MONO>medium: 6\"], \"type\": \"scatter\", \"x\": [-1.0, -0.5000001788139343, null], \"y\": [-8.742277657347586e-08, 0.8660252690315247, null]}, {\"hoverinfo\": \"text\", \"line\": {\"color\": \"grey\", \"width\": 6.900585525859743}, \"mode\": \"lines\", \"text\": [\"EOS<=low--EOS<=low: 6\"], \"type\": \"scatter\", \"x\": [-0.8660252690315247, -0.8660252690315247, null], \"y\": [-0.5000001788139343, -0.5000001788139343, null]}, {\"hoverinfo\": \"text\", \"line\": {\"color\": \"grey\", \"width\": 19.93234766997288}, \"mode\": \"lines\", \"text\": [\"EOS<=low--MPV>low: 11\"], \"type\": \"scatter\", \"x\": [-0.8660252690315247, -0.49999991059303284, null], \"y\": [-0.5000001788139343, -0.866025447845459, null]}, {\"hoverinfo\": \"text\", \"line\": {\"color\": \"grey\", \"width\": 23.210710527388503}, \"mode\": \"lines\", \"text\": [\"EOS<=low--PLT<=medium: 12\"], \"type\": \"scatter\", \"x\": [-0.8660252690315247, 1.1924880638503055e-08, null], \"y\": [-0.5000001788139343, -1.0, null]}, {\"hoverinfo\": \"text\", \"line\": {\"color\": \"grey\", \"width\": 3.394112549695428}, \"mode\": \"lines\", \"text\": [\"EOS<=low--MONO>medium: 4\"], \"type\": \"scatter\", \"x\": [-0.8660252690315247, -0.5000001788139343, null], \"y\": [-0.5000001788139343, 0.8660252690315247, null]}, {\"hoverinfo\": \"text\", \"line\": {\"color\": \"grey\", \"width\": 3.394112549695428}, \"mode\": \"lines\", \"text\": [\"EOS<=low--WBC<=low: 4\"], \"type\": \"scatter\", \"x\": [-0.8660252690315247, -0.866025447845459, null], \"y\": [-0.5000001788139343, 0.49999988079071045, null]}, {\"hoverinfo\": \"text\", \"line\": {\"color\": \"grey\", \"width\": 9.037385848383586}, \"mode\": \"lines\", \"text\": [\"MPV>low--MPV>low: 7\"], \"type\": \"scatter\", \"x\": [-0.49999991059303284, -0.49999991059303284, null], \"y\": [-0.866025447845459, -0.866025447845459, null]}, {\"hoverinfo\": \"text\", \"line\": {\"color\": \"grey\", \"width\": 26.700667663889877}, \"mode\": \"lines\", \"text\": [\"MPV>low--PLT<=medium: 13\"], \"type\": \"scatter\", \"x\": [-0.49999991059303284, 1.1924880638503055e-08, null], \"y\": [-0.866025447845459, -1.0, null]}, {\"hoverinfo\": \"text\", \"line\": {\"color\": \"grey\", \"width\": 5.015552287323165}, \"mode\": \"lines\", \"text\": [\"MPV>low--LYM>low: 5\"], \"type\": \"scatter\", \"x\": [-0.49999991059303284, 0.49999961256980896, null], \"y\": [-0.866025447845459, 0.8660256266593933, null]}, {\"hoverinfo\": \"text\", \"line\": {\"color\": \"grey\", \"width\": 5.015552287323165}, \"mode\": \"lines\", \"text\": [\"MPV>low--WBC<=medium: 5\"], \"type\": \"scatter\", \"x\": [-0.49999991059303284, -3.3776623808989825e-07, null], \"y\": [-0.866025447845459, 1.0, null]}, {\"hoverinfo\": \"text\", \"line\": {\"color\": \"grey\", \"width\": 6.900585525859743}, \"mode\": \"lines\", \"text\": [\"MPV>low--WBC<=low: 6\"], \"type\": \"scatter\", \"x\": [-0.49999991059303284, -0.866025447845459, null], \"y\": [-0.866025447845459, 0.49999988079071045, null]}, {\"hoverinfo\": \"text\", \"line\": {\"color\": \"grey\", \"width\": 23.210710527388503}, \"mode\": \"lines\", \"text\": [\"PLT<=medium--PLT<=medium: 12\"], \"type\": \"scatter\", \"x\": [1.1924880638503055e-08, 1.1924880638503055e-08, null], \"y\": [-1.0, -1.0, null]}, {\"hoverinfo\": \"text\", \"line\": {\"color\": \"grey\", \"width\": 16.87023975571047}, \"mode\": \"lines\", \"text\": [\"PLT<=medium--AST>medium: 10\"], \"type\": \"scatter\", \"x\": [1.1924880638503055e-08, 1.0, null], \"y\": [-1.0, 1.7484555314695172e-07, null]}, {\"hoverinfo\": \"text\", \"line\": {\"color\": \"grey\", \"width\": 9.037385848383586}, \"mode\": \"lines\", \"text\": [\"PLT<=medium--CREAT>low: 7\"], \"type\": \"scatter\", \"x\": [1.1924880638503055e-08, 0.49999991059303284, null], \"y\": [-1.0, -0.866025447845459, null]}, {\"hoverinfo\": \"text\", \"line\": {\"color\": \"grey\", \"width\": 9.037385848383586}, \"mode\": \"lines\", \"text\": [\"PLT<=medium--CRP>medium: 7\"], \"type\": \"scatter\", \"x\": [1.1924880638503055e-08, 0.8660253286361694, null], \"y\": [-1.0, -0.5000001788139343, null]}, {\"hoverinfo\": \"text\", \"line\": {\"color\": \"grey\", \"width\": 14.029611541307906}, \"mode\": \"lines\", \"text\": [\"PLT<=medium--EOS<=high: 9\"], \"type\": \"scatter\", \"x\": [1.1924880638503055e-08, 0.8660253882408142, null], \"y\": [-1.0, 0.5000000596046448, null]}, {\"hoverinfo\": \"text\", \"line\": {\"color\": \"grey\", \"width\": 14.029611541307906}, \"mode\": \"lines\", \"text\": [\"PLT<=medium--LYM>low: 9\"], \"type\": \"scatter\", \"x\": [1.1924880638503055e-08, 0.49999961256980896, null], \"y\": [-1.0, 0.8660256266593933, null]}, {\"hoverinfo\": \"text\", \"line\": {\"color\": \"grey\", \"width\": 19.93234766997288}, \"mode\": \"lines\", \"text\": [\"PLT<=medium--WBC<=medium: 11\"], \"type\": \"scatter\", \"x\": [1.1924880638503055e-08, -3.3776623808989825e-07, null], \"y\": [-1.0, 1.0, null]}, {\"hoverinfo\": \"text\", \"line\": {\"color\": \"grey\", \"width\": 14.029611541307906}, \"mode\": \"lines\", \"text\": [\"PLT<=medium--MONO>medium: 9\"], \"type\": \"scatter\", \"x\": [1.1924880638503055e-08, -0.5000001788139343, null], \"y\": [-1.0, 0.8660252690315247, null]}, {\"hoverinfo\": \"text\", \"line\": {\"color\": \"grey\", \"width\": 11.416388304026121}, \"mode\": \"lines\", \"text\": [\"PLT<=medium--WBC<=low: 8\"], \"type\": \"scatter\", \"x\": [1.1924880638503055e-08, -0.866025447845459, null], \"y\": [-1.0, 0.49999988079071045, null]}, {\"hoverinfo\": \"text\", \"line\": {\"color\": \"grey\", \"width\": 3.394112549695428}, \"mode\": \"lines\", \"text\": [\"CREAT>low--CREAT>low: 4\"], \"type\": \"scatter\", \"x\": [0.49999991059303284, 0.49999991059303284, null], \"y\": [-0.866025447845459, -0.866025447845459, null]}, {\"hoverinfo\": \"text\", \"line\": {\"color\": \"grey\", \"width\": 6.900585525859743}, \"mode\": \"lines\", \"text\": [\"CREAT>low--CRP>medium: 6\"], \"type\": \"scatter\", \"x\": [0.49999991059303284, 0.8660253286361694, null], \"y\": [-0.866025447845459, -0.5000001788139343, null]}, {\"hoverinfo\": \"text\", \"line\": {\"color\": \"grey\", \"width\": 3.394112549695428}, \"mode\": \"lines\", \"text\": [\"CREAT>low--EOS<=high: 4\"], \"type\": \"scatter\", \"x\": [0.49999991059303284, 0.8660253882408142, null], \"y\": [-0.866025447845459, 0.5000000596046448, null]}, {\"hoverinfo\": \"text\", \"line\": {\"color\": \"grey\", \"width\": 3.394112549695428}, \"mode\": \"lines\", \"text\": [\"CREAT>low--LYM>low: 4\"], \"type\": \"scatter\", \"x\": [0.49999991059303284, 0.49999961256980896, null], \"y\": [-0.866025447845459, 0.8660256266593933, null]}, {\"hoverinfo\": \"text\", \"line\": {\"color\": \"grey\", \"width\": 3.394112549695428}, \"mode\": \"lines\", \"text\": [\"CREAT>low--WBC<=medium: 4\"], \"type\": \"scatter\", \"x\": [0.49999991059303284, -3.3776623808989825e-07, null], \"y\": [-0.866025447845459, 1.0, null]}, {\"hoverinfo\": \"text\", \"line\": {\"color\": \"grey\", \"width\": 3.394112549695428}, \"mode\": \"lines\", \"text\": [\"CRP>medium--CRP>medium: 4\"], \"type\": \"scatter\", \"x\": [0.8660253286361694, 0.8660253286361694, null], \"y\": [-0.5000001788139343, -0.5000001788139343, null]}, {\"hoverinfo\": \"text\", \"line\": {\"color\": \"grey\", \"width\": 5.015552287323165}, \"mode\": \"lines\", \"text\": [\"CRP>medium--AST>medium: 5\"], \"type\": \"scatter\", \"x\": [0.8660253286361694, 1.0, null], \"y\": [-0.5000001788139343, 1.7484555314695172e-07, null]}, {\"hoverinfo\": \"text\", \"line\": {\"color\": \"grey\", \"width\": 6.900585525859743}, \"mode\": \"lines\", \"text\": [\"CRP>medium--EOS<=high: 6\"], \"type\": \"scatter\", \"x\": [0.8660253286361694, 0.8660253882408142, null], \"y\": [-0.5000001788139343, 0.5000000596046448, null]}, {\"hoverinfo\": \"text\", \"line\": {\"color\": \"grey\", \"width\": 6.900585525859743}, \"mode\": \"lines\", \"text\": [\"CRP>medium--LYM>low: 6\"], \"type\": \"scatter\", \"x\": [0.8660253286361694, 0.49999961256980896, null], \"y\": [-0.5000001788139343, 0.8660256266593933, null]}, {\"hoverinfo\": \"text\", \"line\": {\"color\": \"grey\", \"width\": 3.394112549695428}, \"mode\": \"lines\", \"text\": [\"CRP>medium--WBC<=medium: 4\"], \"type\": \"scatter\", \"x\": [0.8660253286361694, -3.3776623808989825e-07, null], \"y\": [-0.5000001788139343, 1.0, null]}, {\"hoverinfo\": \"text\", \"line\": {\"color\": \"grey\", \"width\": 5.015552287323165}, \"mode\": \"lines\", \"text\": [\"AST>medium--AST>medium: 5\"], \"type\": \"scatter\", \"x\": [1.0, 1.0, null], \"y\": [1.7484555314695172e-07, 1.7484555314695172e-07, null]}, {\"hoverinfo\": \"text\", \"line\": {\"color\": \"grey\", \"width\": 9.037385848383586}, \"mode\": \"lines\", \"text\": [\"AST>medium--EOS<=high: 7\"], \"type\": \"scatter\", \"x\": [1.0, 0.8660253882408142, null], \"y\": [1.7484555314695172e-07, 0.5000000596046448, null]}, {\"hoverinfo\": \"text\", \"line\": {\"color\": \"grey\", \"width\": 5.015552287323165}, \"mode\": \"lines\", \"text\": [\"AST>medium--LYM>low: 5\"], \"type\": \"scatter\", \"x\": [1.0, 0.49999961256980896, null], \"y\": [1.7484555314695172e-07, 0.8660256266593933, null]}, {\"hoverinfo\": \"text\", \"line\": {\"color\": \"grey\", \"width\": 5.015552287323165}, \"mode\": \"lines\", \"text\": [\"AST>medium--WBC<=medium: 5\"], \"type\": \"scatter\", \"x\": [1.0, -3.3776623808989825e-07, null], \"y\": [1.7484555314695172e-07, 1.0, null]}, {\"hoverinfo\": \"text\", \"line\": {\"color\": \"grey\", \"width\": 3.394112549695428}, \"mode\": \"lines\", \"text\": [\"AST>medium--MONO>medium: 4\"], \"type\": \"scatter\", \"x\": [1.0, -0.5000001788139343, null], \"y\": [1.7484555314695172e-07, 0.8660252690315247, null]}, {\"hoverinfo\": \"text\", \"line\": {\"color\": \"grey\", \"width\": 3.394112549695428}, \"mode\": \"lines\", \"text\": [\"AST>medium--WBC<=low: 4\"], \"type\": \"scatter\", \"x\": [1.0, -0.866025447845459, null], \"y\": [1.7484555314695172e-07, 0.49999988079071045, null]}, {\"hoverinfo\": \"text\", \"line\": {\"color\": \"grey\", \"width\": 3.394112549695428}, \"mode\": \"lines\", \"text\": [\"EOS<=high--EOS<=high: 4\"], \"type\": \"scatter\", \"x\": [0.8660253882408142, 0.8660253882408142, null], \"y\": [0.5000000596046448, 0.5000000596046448, null]}, {\"hoverinfo\": \"text\", \"line\": {\"color\": \"grey\", \"width\": 6.900585525859743}, \"mode\": \"lines\", \"text\": [\"EOS<=high--LYM>low: 6\"], \"type\": \"scatter\", \"x\": [0.8660253882408142, 0.49999961256980896, null], \"y\": [0.5000000596046448, 0.8660256266593933, null]}, {\"hoverinfo\": \"text\", \"line\": {\"color\": \"grey\", \"width\": 6.900585525859743}, \"mode\": \"lines\", \"text\": [\"EOS<=high--WBC<=medium: 6\"], \"type\": \"scatter\", \"x\": [0.8660253882408142, -3.3776623808989825e-07, null], \"y\": [0.5000000596046448, 1.0, null]}, {\"hoverinfo\": \"text\", \"line\": {\"color\": \"grey\", \"width\": 3.394112549695428}, \"mode\": \"lines\", \"text\": [\"LYM>low--LYM>low: 4\"], \"type\": \"scatter\", \"x\": [0.49999961256980896, 0.49999961256980896, null], \"y\": [0.8660256266593933, 0.8660256266593933, null]}, {\"hoverinfo\": \"text\", \"line\": {\"color\": \"grey\", \"width\": 3.394112549695428}, \"mode\": \"lines\", \"text\": [\"LYM>low--WBC<=medium: 4\"], \"type\": \"scatter\", \"x\": [0.49999961256980896, -3.3776623808989825e-07, null], \"y\": [0.8660256266593933, 1.0, null]}, {\"hoverinfo\": \"text\", \"line\": {\"color\": \"grey\", \"width\": 3.394112549695428}, \"mode\": \"lines\", \"text\": [\"LYM>low--WBC<=low: 4\"], \"type\": \"scatter\", \"x\": [0.49999961256980896, -0.866025447845459, null], \"y\": [0.8660256266593933, 0.49999988079071045, null]}, {\"hoverinfo\": \"text\", \"line\": {\"color\": \"grey\", \"width\": 5.015552287323165}, \"mode\": \"lines\", \"text\": [\"WBC<=medium--WBC<=medium: 5\"], \"type\": \"scatter\", \"x\": [-3.3776623808989825e-07, -3.3776623808989825e-07, null], \"y\": [1.0, 1.0, null]}, {\"hoverinfo\": \"text\", \"line\": {\"color\": \"grey\", \"width\": 5.015552287323165}, \"mode\": \"lines\", \"text\": [\"WBC<=medium--MONO>medium: 5\"], \"type\": \"scatter\", \"x\": [-3.3776623808989825e-07, -0.5000001788139343, null], \"y\": [1.0, 0.8660252690315247, null]}, {\"hoverinfo\": \"text\", \"line\": {\"color\": \"grey\", \"width\": 3.394112549695428}, \"mode\": \"lines\", \"text\": [\"MONO>medium--MONO>medium: 4\"], \"type\": \"scatter\", \"x\": [-0.5000001788139343, -0.5000001788139343, null], \"y\": [0.8660252690315247, 0.8660252690315247, null]}, {\"hoverinfo\": \"text\", \"line\": {\"color\": \"grey\", \"width\": 3.394112549695428}, \"mode\": \"lines\", \"text\": [\"WBC<=low--WBC<=low: 4\"], \"type\": \"scatter\", \"x\": [-0.866025447845459, -0.866025447845459, null], \"y\": [0.49999988079071045, 0.49999988079071045, null]}, {\"hoverinfo\": \"none\", \"marker\": {\"color\": [\"red\", \"red\", \"red\", \"yellow\", \"red\", \"yellow\", \"yellow\", \"blue\", \"red\", \"yellow\", \"yellow\", \"red\"], \"size\": [60.90169943749474, 78.48469228349535, 97.60129588726068, 212.84609690826528, 45.0, 45.0, 60.90169943749474, 45.0, 45.0, 60.90169943749474, 45.0, 45.0]}, \"mode\": \"markers+text\", \"opacity\": 1, \"text\": [\"<b>CRP>low</b>\", \"<b>EOS<=low</b>\", \"<b>MPV>low</b>\", \"<b>PLT<=medium</b>\", \"<b>CREAT>low</b>\", \"<b>CRP>medium</b>\", \"<b>AST>medium</b>\", \"<b>EOS<=high</b>\", \"<b>LYM>low</b>\", \"<b>WBC<=medium</b>\", \"<b>MONO>medium</b>\", \"<b>WBC<=low</b>\"], \"textfont\": {\"color\": \"black\", \"size\": 28}, \"textposition\": \"top center\", \"type\": \"scatter\", \"x\": [-1.0, -0.8660252690315247, -0.49999991059303284, 1.1924880638503055e-08, 0.49999991059303284, 0.8660253286361694, 1.0, 0.8660253882408142, 0.49999961256980896, -3.3776623808989825e-07, -0.5000001788139343, -0.866025447845459], \"y\": [-8.742277657347586e-08, -0.5000001788139343, -0.866025447845459, -1.0, -0.866025447845459, -0.5000001788139343, 1.7484555314695172e-07, 0.5000000596046448, 0.8660256266593933, 1.0, 0.8660252690315247, 0.49999988079071045]}],\n",
              "                        {\"height\": 1000, \"margin\": {\"b\": 0, \"l\": 0, \"r\": 0, \"t\": 0}, \"plot_bgcolor\": \"rgba(0,0,0,0)\", \"showlegend\": false, \"template\": {\"data\": {\"bar\": [{\"error_x\": {\"color\": \"#2a3f5f\"}, \"error_y\": {\"color\": \"#2a3f5f\"}, \"marker\": {\"line\": {\"color\": \"#E5ECF6\", \"width\": 0.5}}, \"type\": \"bar\"}], \"barpolar\": [{\"marker\": {\"line\": {\"color\": \"#E5ECF6\", \"width\": 0.5}}, \"type\": \"barpolar\"}], \"carpet\": [{\"aaxis\": {\"endlinecolor\": \"#2a3f5f\", \"gridcolor\": \"white\", \"linecolor\": \"white\", \"minorgridcolor\": \"white\", \"startlinecolor\": \"#2a3f5f\"}, \"baxis\": {\"endlinecolor\": \"#2a3f5f\", \"gridcolor\": \"white\", \"linecolor\": \"white\", \"minorgridcolor\": \"white\", \"startlinecolor\": \"#2a3f5f\"}, \"type\": \"carpet\"}], \"choropleth\": [{\"colorbar\": {\"outlinewidth\": 0, \"ticks\": \"\"}, \"type\": \"choropleth\"}], \"contour\": [{\"colorbar\": {\"outlinewidth\": 0, \"ticks\": \"\"}, \"colorscale\": [[0.0, \"#0d0887\"], [0.1111111111111111, \"#46039f\"], [0.2222222222222222, \"#7201a8\"], [0.3333333333333333, \"#9c179e\"], [0.4444444444444444, \"#bd3786\"], [0.5555555555555556, \"#d8576b\"], [0.6666666666666666, \"#ed7953\"], [0.7777777777777778, \"#fb9f3a\"], [0.8888888888888888, \"#fdca26\"], [1.0, \"#f0f921\"]], \"type\": \"contour\"}], \"contourcarpet\": [{\"colorbar\": {\"outlinewidth\": 0, \"ticks\": \"\"}, \"type\": \"contourcarpet\"}], \"heatmap\": [{\"colorbar\": {\"outlinewidth\": 0, \"ticks\": \"\"}, \"colorscale\": [[0.0, \"#0d0887\"], [0.1111111111111111, \"#46039f\"], [0.2222222222222222, \"#7201a8\"], [0.3333333333333333, \"#9c179e\"], [0.4444444444444444, \"#bd3786\"], [0.5555555555555556, \"#d8576b\"], [0.6666666666666666, \"#ed7953\"], [0.7777777777777778, \"#fb9f3a\"], [0.8888888888888888, \"#fdca26\"], [1.0, \"#f0f921\"]], \"type\": \"heatmap\"}], \"heatmapgl\": [{\"colorbar\": {\"outlinewidth\": 0, \"ticks\": \"\"}, \"colorscale\": [[0.0, \"#0d0887\"], [0.1111111111111111, \"#46039f\"], [0.2222222222222222, \"#7201a8\"], [0.3333333333333333, \"#9c179e\"], [0.4444444444444444, \"#bd3786\"], [0.5555555555555556, \"#d8576b\"], [0.6666666666666666, \"#ed7953\"], [0.7777777777777778, \"#fb9f3a\"], [0.8888888888888888, \"#fdca26\"], [1.0, \"#f0f921\"]], \"type\": \"heatmapgl\"}], \"histogram\": [{\"marker\": {\"colorbar\": {\"outlinewidth\": 0, \"ticks\": \"\"}}, \"type\": \"histogram\"}], \"histogram2d\": [{\"colorbar\": {\"outlinewidth\": 0, \"ticks\": \"\"}, \"colorscale\": [[0.0, \"#0d0887\"], [0.1111111111111111, \"#46039f\"], [0.2222222222222222, \"#7201a8\"], [0.3333333333333333, \"#9c179e\"], [0.4444444444444444, \"#bd3786\"], [0.5555555555555556, \"#d8576b\"], [0.6666666666666666, \"#ed7953\"], [0.7777777777777778, \"#fb9f3a\"], [0.8888888888888888, \"#fdca26\"], [1.0, \"#f0f921\"]], \"type\": \"histogram2d\"}], \"histogram2dcontour\": [{\"colorbar\": {\"outlinewidth\": 0, \"ticks\": \"\"}, \"colorscale\": [[0.0, \"#0d0887\"], [0.1111111111111111, \"#46039f\"], [0.2222222222222222, \"#7201a8\"], [0.3333333333333333, \"#9c179e\"], [0.4444444444444444, \"#bd3786\"], [0.5555555555555556, \"#d8576b\"], [0.6666666666666666, \"#ed7953\"], [0.7777777777777778, \"#fb9f3a\"], [0.8888888888888888, \"#fdca26\"], [1.0, \"#f0f921\"]], \"type\": \"histogram2dcontour\"}], \"mesh3d\": [{\"colorbar\": {\"outlinewidth\": 0, \"ticks\": \"\"}, \"type\": \"mesh3d\"}], \"parcoords\": [{\"line\": {\"colorbar\": {\"outlinewidth\": 0, \"ticks\": \"\"}}, \"type\": \"parcoords\"}], \"pie\": [{\"automargin\": true, \"type\": \"pie\"}], \"scatter\": [{\"marker\": {\"colorbar\": {\"outlinewidth\": 0, \"ticks\": \"\"}}, \"type\": \"scatter\"}], \"scatter3d\": [{\"line\": {\"colorbar\": {\"outlinewidth\": 0, \"ticks\": \"\"}}, \"marker\": {\"colorbar\": {\"outlinewidth\": 0, \"ticks\": \"\"}}, \"type\": \"scatter3d\"}], \"scattercarpet\": [{\"marker\": {\"colorbar\": {\"outlinewidth\": 0, \"ticks\": \"\"}}, \"type\": \"scattercarpet\"}], \"scattergeo\": [{\"marker\": {\"colorbar\": {\"outlinewidth\": 0, \"ticks\": \"\"}}, \"type\": \"scattergeo\"}], \"scattergl\": [{\"marker\": {\"colorbar\": {\"outlinewidth\": 0, \"ticks\": \"\"}}, \"type\": \"scattergl\"}], \"scattermapbox\": [{\"marker\": {\"colorbar\": {\"outlinewidth\": 0, \"ticks\": \"\"}}, \"type\": \"scattermapbox\"}], \"scatterpolar\": [{\"marker\": {\"colorbar\": {\"outlinewidth\": 0, \"ticks\": \"\"}}, \"type\": \"scatterpolar\"}], \"scatterpolargl\": [{\"marker\": {\"colorbar\": {\"outlinewidth\": 0, \"ticks\": \"\"}}, \"type\": \"scatterpolargl\"}], \"scatterternary\": [{\"marker\": {\"colorbar\": {\"outlinewidth\": 0, \"ticks\": \"\"}}, \"type\": \"scatterternary\"}], \"surface\": [{\"colorbar\": {\"outlinewidth\": 0, \"ticks\": \"\"}, \"colorscale\": [[0.0, \"#0d0887\"], [0.1111111111111111, \"#46039f\"], [0.2222222222222222, \"#7201a8\"], [0.3333333333333333, \"#9c179e\"], [0.4444444444444444, \"#bd3786\"], [0.5555555555555556, \"#d8576b\"], [0.6666666666666666, \"#ed7953\"], [0.7777777777777778, \"#fb9f3a\"], [0.8888888888888888, \"#fdca26\"], [1.0, \"#f0f921\"]], \"type\": \"surface\"}], \"table\": [{\"cells\": {\"fill\": {\"color\": \"#EBF0F8\"}, \"line\": {\"color\": \"white\"}}, \"header\": {\"fill\": {\"color\": \"#C8D4E3\"}, \"line\": {\"color\": \"white\"}}, \"type\": \"table\"}]}, \"layout\": {\"annotationdefaults\": {\"arrowcolor\": \"#2a3f5f\", \"arrowhead\": 0, \"arrowwidth\": 1}, \"coloraxis\": {\"colorbar\": {\"outlinewidth\": 0, \"ticks\": \"\"}}, \"colorscale\": {\"diverging\": [[0, \"#8e0152\"], [0.1, \"#c51b7d\"], [0.2, \"#de77ae\"], [0.3, \"#f1b6da\"], [0.4, \"#fde0ef\"], [0.5, \"#f7f7f7\"], [0.6, \"#e6f5d0\"], [0.7, \"#b8e186\"], [0.8, \"#7fbc41\"], [0.9, \"#4d9221\"], [1, \"#276419\"]], \"sequential\": [[0.0, \"#0d0887\"], [0.1111111111111111, \"#46039f\"], [0.2222222222222222, \"#7201a8\"], [0.3333333333333333, \"#9c179e\"], [0.4444444444444444, \"#bd3786\"], [0.5555555555555556, \"#d8576b\"], [0.6666666666666666, \"#ed7953\"], [0.7777777777777778, \"#fb9f3a\"], [0.8888888888888888, \"#fdca26\"], [1.0, \"#f0f921\"]], \"sequentialminus\": [[0.0, \"#0d0887\"], [0.1111111111111111, \"#46039f\"], [0.2222222222222222, \"#7201a8\"], [0.3333333333333333, \"#9c179e\"], [0.4444444444444444, \"#bd3786\"], [0.5555555555555556, \"#d8576b\"], [0.6666666666666666, \"#ed7953\"], [0.7777777777777778, \"#fb9f3a\"], [0.8888888888888888, \"#fdca26\"], [1.0, \"#f0f921\"]]}, \"colorway\": [\"#636efa\", \"#EF553B\", \"#00cc96\", \"#ab63fa\", \"#FFA15A\", \"#19d3f3\", \"#FF6692\", \"#B6E880\", \"#FF97FF\", \"#FECB52\"], \"font\": {\"color\": \"#2a3f5f\"}, \"geo\": {\"bgcolor\": \"white\", \"lakecolor\": \"white\", \"landcolor\": \"#E5ECF6\", \"showlakes\": true, \"showland\": true, \"subunitcolor\": \"white\"}, \"hoverlabel\": {\"align\": \"left\"}, \"hovermode\": \"closest\", \"mapbox\": {\"style\": \"light\"}, \"paper_bgcolor\": \"white\", \"plot_bgcolor\": \"#E5ECF6\", \"polar\": {\"angularaxis\": {\"gridcolor\": \"white\", \"linecolor\": \"white\", \"ticks\": \"\"}, \"bgcolor\": \"#E5ECF6\", \"radialaxis\": {\"gridcolor\": \"white\", \"linecolor\": \"white\", \"ticks\": \"\"}}, \"scene\": {\"xaxis\": {\"backgroundcolor\": \"#E5ECF6\", \"gridcolor\": \"white\", \"gridwidth\": 2, \"linecolor\": \"white\", \"showbackground\": true, \"ticks\": \"\", \"zerolinecolor\": \"white\"}, \"yaxis\": {\"backgroundcolor\": \"#E5ECF6\", \"gridcolor\": \"white\", \"gridwidth\": 2, \"linecolor\": \"white\", \"showbackground\": true, \"ticks\": \"\", \"zerolinecolor\": \"white\"}, \"zaxis\": {\"backgroundcolor\": \"#E5ECF6\", \"gridcolor\": \"white\", \"gridwidth\": 2, \"linecolor\": \"white\", \"showbackground\": true, \"ticks\": \"\", \"zerolinecolor\": \"white\"}}, \"shapedefaults\": {\"line\": {\"color\": \"#2a3f5f\"}}, \"ternary\": {\"aaxis\": {\"gridcolor\": \"white\", \"linecolor\": \"white\", \"ticks\": \"\"}, \"baxis\": {\"gridcolor\": \"white\", \"linecolor\": \"white\", \"ticks\": \"\"}, \"bgcolor\": \"#E5ECF6\", \"caxis\": {\"gridcolor\": \"white\", \"linecolor\": \"white\", \"ticks\": \"\"}}, \"title\": {\"x\": 0.05}, \"xaxis\": {\"automargin\": true, \"gridcolor\": \"white\", \"linecolor\": \"white\", \"ticks\": \"\", \"title\": {\"standoff\": 15}, \"zerolinecolor\": \"white\", \"zerolinewidth\": 2}, \"yaxis\": {\"automargin\": true, \"gridcolor\": \"white\", \"linecolor\": \"white\", \"ticks\": \"\", \"title\": {\"standoff\": 15}, \"zerolinecolor\": \"white\", \"zerolinewidth\": 2}}}, \"width\": 1500, \"xaxis\": {\"showgrid\": false, \"showticklabels\": false, \"zeroline\": false}, \"yaxis\": {\"automargin\": true, \"showgrid\": false, \"showticklabels\": false, \"zeroline\": false}},\n",
              "                        {\"responsive\": true}\n",
              "                    ).then(function(){\n",
              "                            \n",
              "var gd = document.getElementById('f243417d-ef4f-4c55-a072-571089700c39');\n",
              "var x = new MutationObserver(function (mutations, observer) {{\n",
              "        var display = window.getComputedStyle(gd).display;\n",
              "        if (!display || display === 'none') {{\n",
              "            console.log([gd, 'removed!']);\n",
              "            Plotly.purge(gd);\n",
              "            observer.disconnect();\n",
              "        }}\n",
              "}});\n",
              "\n",
              "// Listen for the removal of the full notebook cells\n",
              "var notebookContainer = gd.closest('#notebook-container');\n",
              "if (notebookContainer) {{\n",
              "    x.observe(notebookContainer, {childList: true});\n",
              "}}\n",
              "\n",
              "// Listen for the clearing of the current output cell\n",
              "var outputEl = gd.closest('.output');\n",
              "if (outputEl) {{\n",
              "    x.observe(outputEl, {childList: true});\n",
              "}}\n",
              "\n",
              "                        })\n",
              "                };\n",
              "                \n",
              "            </script>\n",
              "        </div>\n",
              "</body>\n",
              "</html>"
            ]
          },
          "metadata": {
            "tags": []
          }
        }
      ]
    },
    {
      "cell_type": "code",
      "metadata": {
        "id": "Rc-00a9s1Obd"
      },
      "source": [
        ""
      ],
      "execution_count": null,
      "outputs": []
    }
  ]
}